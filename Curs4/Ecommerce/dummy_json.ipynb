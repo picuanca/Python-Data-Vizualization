{
 "cells": [
  {
   "cell_type": "code",
   "execution_count": 1,
   "id": "6021c441",
   "metadata": {},
   "outputs": [],
   "source": [
    "import requests\n",
    "import json\n",
    "import csv\n"
   ]
  },
  {
   "cell_type": "code",
   "execution_count": 5,
   "id": "0e6e9b21",
   "metadata": {},
   "outputs": [],
   "source": [
    "BASE_URL = \"https://dummyjson.com/\"\n",
    "\n",
    "URL_CATEGORIES = BASE_URL + \"products/categories\""
   ]
  },
  {
   "cell_type": "code",
   "execution_count": 6,
   "id": "6656b24b",
   "metadata": {},
   "outputs": [],
   "source": [
    "\n",
    "response = requests.get(URL_CATEGORIES)"
   ]
  },
  {
   "cell_type": "code",
   "execution_count": 7,
   "id": "51c7fa39",
   "metadata": {},
   "outputs": [
    {
     "data": {
      "text/plain": [
       "200"
      ]
     },
     "execution_count": 7,
     "metadata": {},
     "output_type": "execute_result"
    }
   ],
   "source": [
    "response.status_code"
   ]
  },
  {
   "cell_type": "code",
   "execution_count": 9,
   "id": "b85b1b1c",
   "metadata": {},
   "outputs": [
    {
     "data": {
      "text/plain": [
       "[{'slug': 'beauty',\n",
       "  'name': 'Beauty',\n",
       "  'url': 'https://dummyjson.com/products/category/beauty'},\n",
       " {'slug': 'fragrances',\n",
       "  'name': 'Fragrances',\n",
       "  'url': 'https://dummyjson.com/products/category/fragrances'},\n",
       " {'slug': 'furniture',\n",
       "  'name': 'Furniture',\n",
       "  'url': 'https://dummyjson.com/products/category/furniture'},\n",
       " {'slug': 'groceries',\n",
       "  'name': 'Groceries',\n",
       "  'url': 'https://dummyjson.com/products/category/groceries'},\n",
       " {'slug': 'home-decoration',\n",
       "  'name': 'Home Decoration',\n",
       "  'url': 'https://dummyjson.com/products/category/home-decoration'},\n",
       " {'slug': 'kitchen-accessories',\n",
       "  'name': 'Kitchen Accessories',\n",
       "  'url': 'https://dummyjson.com/products/category/kitchen-accessories'},\n",
       " {'slug': 'laptops',\n",
       "  'name': 'Laptops',\n",
       "  'url': 'https://dummyjson.com/products/category/laptops'},\n",
       " {'slug': 'mens-shirts',\n",
       "  'name': 'Mens Shirts',\n",
       "  'url': 'https://dummyjson.com/products/category/mens-shirts'},\n",
       " {'slug': 'mens-shoes',\n",
       "  'name': 'Mens Shoes',\n",
       "  'url': 'https://dummyjson.com/products/category/mens-shoes'},\n",
       " {'slug': 'mens-watches',\n",
       "  'name': 'Mens Watches',\n",
       "  'url': 'https://dummyjson.com/products/category/mens-watches'},\n",
       " {'slug': 'mobile-accessories',\n",
       "  'name': 'Mobile Accessories',\n",
       "  'url': 'https://dummyjson.com/products/category/mobile-accessories'},\n",
       " {'slug': 'motorcycle',\n",
       "  'name': 'Motorcycle',\n",
       "  'url': 'https://dummyjson.com/products/category/motorcycle'},\n",
       " {'slug': 'skin-care',\n",
       "  'name': 'Skin Care',\n",
       "  'url': 'https://dummyjson.com/products/category/skin-care'},\n",
       " {'slug': 'smartphones',\n",
       "  'name': 'Smartphones',\n",
       "  'url': 'https://dummyjson.com/products/category/smartphones'},\n",
       " {'slug': 'sports-accessories',\n",
       "  'name': 'Sports Accessories',\n",
       "  'url': 'https://dummyjson.com/products/category/sports-accessories'},\n",
       " {'slug': 'sunglasses',\n",
       "  'name': 'Sunglasses',\n",
       "  'url': 'https://dummyjson.com/products/category/sunglasses'},\n",
       " {'slug': 'tablets',\n",
       "  'name': 'Tablets',\n",
       "  'url': 'https://dummyjson.com/products/category/tablets'},\n",
       " {'slug': 'tops',\n",
       "  'name': 'Tops',\n",
       "  'url': 'https://dummyjson.com/products/category/tops'},\n",
       " {'slug': 'vehicle',\n",
       "  'name': 'Vehicle',\n",
       "  'url': 'https://dummyjson.com/products/category/vehicle'},\n",
       " {'slug': 'womens-bags',\n",
       "  'name': 'Womens Bags',\n",
       "  'url': 'https://dummyjson.com/products/category/womens-bags'},\n",
       " {'slug': 'womens-dresses',\n",
       "  'name': 'Womens Dresses',\n",
       "  'url': 'https://dummyjson.com/products/category/womens-dresses'},\n",
       " {'slug': 'womens-jewellery',\n",
       "  'name': 'Womens Jewellery',\n",
       "  'url': 'https://dummyjson.com/products/category/womens-jewellery'},\n",
       " {'slug': 'womens-shoes',\n",
       "  'name': 'Womens Shoes',\n",
       "  'url': 'https://dummyjson.com/products/category/womens-shoes'},\n",
       " {'slug': 'womens-watches',\n",
       "  'name': 'Womens Watches',\n",
       "  'url': 'https://dummyjson.com/products/category/womens-watches'}]"
      ]
     },
     "execution_count": 9,
     "metadata": {},
     "output_type": "execute_result"
    }
   ],
   "source": [
    "response.json()"
   ]
  }
 ],
 "metadata": {
  "kernelspec": {
   "display_name": "Python 3",
   "language": "python",
   "name": "python3"
  },
  "language_info": {
   "codemirror_mode": {
    "name": "ipython",
    "version": 3
   },
   "file_extension": ".py",
   "mimetype": "text/x-python",
   "name": "python",
   "nbconvert_exporter": "python",
   "pygments_lexer": "ipython3",
   "version": "3.13.0"
  }
 },
 "nbformat": 4,
 "nbformat_minor": 5
}
